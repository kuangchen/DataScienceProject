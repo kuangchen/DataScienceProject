{
 "metadata": {
  "name": "",
  "signature": "sha256:354435f45f90b00efa91af9a405c1575fafcf7aad1cec26ab9fdf86e7f5f8eb2"
 },
 "nbformat": 3,
 "nbformat_minor": 0,
 "worksheets": [
  {
   "cells": [
    {
     "cell_type": "markdown",
     "metadata": {},
     "source": [
      "#Book recommendation system using item-based collaborative filtering\n",
      "\n",
      "Kuang Chen\n",
      "\n",
      "July 2014"
     ]
    },
    {
     "cell_type": "markdown",
     "metadata": {},
     "source": [
      "Recommendation systems are uniquitous for every area of our daily life that. (just think about Google, LinkedIn, RottenTomato, Amazon, LastFM, TripAdvisor, TrueCar and other countless companies out there.) Based on the stored historical user action (purchasing/browsing/rating...), these systems predict what an user would also like, beyond what he/she has already shown preference of. There is a variety of different statistical models from which a recommendation system can be built. One such popular model is called \"item-based collaborative filtering\", that _directly_ calculates the similarity between items. \n",
      "\n",
      "Here is how this algorithm works: mathematically, user $u$ indicate his preference, represented by rating $R_{u,j}$, of $j$-th item. Then the recommendation algorithm predicts $P_{u,i}$, the rating he would give to i-$^{th}$ item that has not been rated yet \n",
      "\n",
      "<center>\n",
      "$P_{u, i} = \\dfrac{ \\sum_{j} s_{kj} R_{u, j}}{\\sum_{j}|s_{kj}|}$\n",
      "</center>\n",
      "\n",
      "where the weight factor $s_{kj}$ is a measure of **similarity**: the larger $r_{kj}$ is, the more similar $u_k$ and $u_j$ are. \n",
      "There are various metrics based on which the similarity matrix $s_{kj}$ could be constructed. (Refer to Ref [X] for an overview). In this tutorial I am going to use the adjusted cosine similarity: we collect the historial ratings $R_{u, k}$ that another user $u$ give to the $k$-th item , \n",
      "\n",
      "<center>\n",
      "$s_{kj} = \\dfrac{\\sum_{u} (R_{u, k}-\\overline{R}_u)(R_{u, j}-\\overline{R}_u)}{\\sqrt{\\sum_{u}(R_{u, k}-\\overline{R}_u)^2}\\sqrt{\\sum_{u}(R_{u, j}-\\overline{R}_u)^2}}$\n",
      "</center>\n",
      "\n",
      "where $\\overline{R}_u$, the average of the $u$-th user's ratings is subtracted to adjust for each person's rating bias. \n",
      "\n",
      "In this tutorial, I am going to build a book recommendation system based on this principle. We use the data from the _Book-Crossing Dataset_ (see Ref []). "
     ]
    },
    {
     "cell_type": "code",
     "collapsed": false,
     "input": [
      "import pandas as pd\n",
      "pd.set_option('display.width', 500)\n",
      "pd.set_option('display.max_columns', 30)\n",
      "\n",
      "#these colors come from colorbrewer2.org. Each is an RGB triplet\n",
      "dark2_colors = [(0.10588235294117647, 0.6196078431372549, 0.4666666666666667),\n",
      "                (0.8509803921568627, 0.37254901960784315, 0.00784313725490196),\n",
      "                (0.4588235294117647, 0.4392156862745098, 0.7019607843137254),\n",
      "                (0.9058823529411765, 0.1607843137254902, 0.5411764705882353),\n",
      "                (0.4, 0.6509803921568628, 0.11764705882352941),\n",
      "                (0.9019607843137255, 0.6705882352941176, 0.00784313725490196),\n",
      "                (0.6509803921568628, 0.4627450980392157, 0.11372549019607843),\n",
      "                (0.4, 0.4, 0.4)]\n",
      "\n",
      "rcParams['figure.figsize'] = (10, 6)\n",
      "rcParams['figure.dpi'] = 150\n",
      "rcParams['axes.color_cycle'] = dark2_colors\n",
      "rcParams['lines.linewidth'] = 2\n",
      "rcParams['axes.grid'] = False\n",
      "rcParams['axes.facecolor'] = 'white'\n",
      "rcParams['font.size'] = 14\n",
      "rcParams['patch.edgecolor'] = 'none'\n",
      "\n",
      "\n",
      "def remove_border(axes=None, top=False, right=False, left=True, bottom=True):\n",
      "    \"\"\"\n",
      "    Minimize chartjunk by stripping out unnecessary plot borders and axis ticks\n",
      "    \n",
      "    The top/right/left/bottom keywords toggle whether the corresponding plot border is drawn\n",
      "    \"\"\"\n",
      "    ax = axes or plt.gca()\n",
      "    ax.spines['top'].set_visible(top)\n",
      "    ax.spines['right'].set_visible(right)\n",
      "    ax.spines['left'].set_visible(left)\n",
      "    ax.spines['bottom'].set_visible(bottom)\n",
      "    \n",
      "    #turn off all ticks\n",
      "    ax.yaxis.set_ticks_position('none')\n",
      "    ax.xaxis.set_ticks_position('none')\n",
      "    \n",
      "    #now re-enable visibles\n",
      "    if top:\n",
      "        ax.xaxis.tick_top()\n",
      "    if bottom:\n",
      "        ax.xaxis.tick_bottom()\n",
      "    if left:\n",
      "        ax.yaxis.tick_left()\n",
      "    if right:\n",
      "        ax.yaxis.tick_right()"
     ],
     "language": "python",
     "metadata": {},
     "outputs": [],
     "prompt_number": 1
    },
    {
     "cell_type": "markdown",
     "metadata": {},
     "source": [
      "We define the core Recommender class here. The key part is the metric function, which builds the similarity matrix. "
     ]
    },
    {
     "cell_type": "code",
     "collapsed": false,
     "input": [
      "import pandas as pd\n",
      "import scipy.sparse as sparse\n",
      "import scipy.spatial.distance as distance\n",
      "import numpy.linalg as linalg"
     ],
     "language": "python",
     "metadata": {},
     "outputs": [],
     "prompt_number": 2
    },
    {
     "cell_type": "code",
     "collapsed": false,
     "input": [
      "def nonzero_element(r, row=True):\n",
      "    '''\n",
      "    return the non-zero element of a sparse.csc_matrix\n",
      "    r: the sparse matrix\n",
      "    row: if set to True, non-zero elements of r is split into rows\n",
      "         otherwise split for each column\n",
      "    '''\n",
      "    if row:\n",
      "        return [ r.data[r.indices==i] for i in range(r.shape[0]) ]\n",
      "    \n",
      "    else:\n",
      "        return split(r.data, r.indptr)[1:-1]"
     ],
     "language": "python",
     "metadata": {},
     "outputs": [],
     "prompt_number": 30
    },
    {
     "cell_type": "code",
     "collapsed": false,
     "input": [
      "def extract_bias(r):\n",
      "    mu = r.data.mean()\n",
      "    \n",
      "    bu = zeros(r.shape[0])\n",
      "    for i in range(r.shape[0]):\n",
      "        bu[i] = r.data[r.indices==i].mean() - mu\n",
      "    \n",
      "    bi = zeros(r.shape[1])    \n",
      "    for i, col in enumerate(split(r.data, r.indptr)[1:-1]):\n",
      "        bi[i] = col.mean() - bu[r.indices[r.indptr[i]:r.indptr[i+1]]].mean() - mu\n",
      "    \n",
      "    return mu, bu, bi"
     ],
     "language": "python",
     "metadata": {},
     "outputs": [],
     "prompt_number": 4
    },
    {
     "cell_type": "code",
     "collapsed": false,
     "input": [
      "%load_ext cythonmagic"
     ],
     "language": "python",
     "metadata": {},
     "outputs": [],
     "prompt_number": 94
    },
    {
     "cell_type": "code",
     "collapsed": false,
     "input": [
      "%%cython\n",
      "cimport cython\n",
      "cimport numpy as np\n",
      "import scipy.sparse as sparse\n",
      "import numpy as np\n",
      "import scipy.spatial.distance\n",
      "@cython.wraparound(False)\n",
      "@cython.cdivision(True)\n",
      "def adjusted_cosine(rating):\n",
      "    cdef:\n",
      "        int i, j\n",
      "        double b\n",
      "        # Use memoryview object to store row mean, and similarity matrix\n",
      "        double [:] m = np.zeros(rating.shape[0])\n",
      "        double [:, :] s = np.identity(rating.shape[1])\n",
      "        #np.ndarray(double, ndim=1) rid, rjd\n",
      "        \n",
      "    # Use the following trick to realize r -= r.mena(axis=1)\n",
      "    # http://stackoverflow.com/questions/16043299/substitute-for-numpy-broadcasting-using-scipy-sparse-csc-matrix\n",
      "    r = rating.tocsc()\n",
      "    for i in range(r.shape[0]):\n",
      "        row_i = r.data[r.indices==i]\n",
      "        if (row_i.size!=0):\n",
      "            m[i] = row_i.mean()\n",
      "        \n",
      "    # Convert r to float for subtraction\n",
      "    r = r.asfptype()\n",
      "    r.data -= np.take(m, r.indices)\n",
      "    \n",
      "    r_indices = [ rating.indices[rating.indptr[i]:rating.indptr[i+1]] for i in range(s.shape[0]) ]\n",
      "        \n",
      "    for i, j in zip(*scipy.triu_indices_from(s, k=1)):\n",
      "        ri_indices, rj_indices = r_indices[i], r_indices[j]     \n",
      "        #ri, rj = r.getcol(i), r.getcol(j)\n",
      "        # Get the indices of all users who only rated\n",
      "        # ith or jth item, but not both\n",
      "        # and ignore these ratings\n",
      "        rid = r.data[np.where(np.in1d(ri_indices, rj_indices)) + r.indptr[i]]\n",
      "        rjd = r.data[np.where(np.in1d(rj_indices, ri_indices)) + r.indptr[j]]     \n",
      "        \n",
      "        b = 0\n",
      "        \n",
      "        if rid.size!=0:\n",
      "            b = 1 - scipy.spatial.distance.cosine(rid, rjd)\n",
      "            if np.isnan(b):\n",
      "                b = 0\n",
      "                \n",
      "        s[i, j], s[j, i] = b, b\n",
      "    \n",
      "    return sparse.csr_matrix(s)"
     ],
     "language": "python",
     "metadata": {},
     "outputs": [],
     "prompt_number": 232
    },
    {
     "cell_type": "markdown",
     "metadata": {},
     "source": [
      "## The BookRecommender System"
     ]
    },
    {
     "cell_type": "code",
     "collapsed": false,
     "input": [
      "class BookRecommender:\n",
      "    def __init__(self, book_df, rating_df, metric):\n",
      "        self._book_df = book_df\n",
      "        self._rating_df = rating_df\n",
      "        \n",
      "        rating_matrix = sparse.csc_matrix(self._rating_df.fillna(0).values)\n",
      "        self._recommender = Recommender(rating_matrix, metric)\n",
      "        \n",
      "    def _item_idx_to_book(self, item_idx):        \n",
      "        return self._rating_df.columns[item_idx]\n",
      "    \n",
      "    def _book_to_item_idx(self, book_title):                \n",
      "        return [ self._rating_df.columns.get_loc(bt) for bt in book_title ]\n",
      "        \n",
      "    def display_cover(self, book_title):        \n",
      "        return self._book_df.ix[self._book_df[\"Book-Title\"].isin(book_title), \"Image-URL-M\"]\n",
      "            \n",
      "    def recommend(self, pref, top=10):\n",
      "        idx = self._book_to_item_idx(pref[0])\n",
      "        score = pref[1]\n",
      "        \n",
      "        predicted_idx = self._recommender.recommend((idx, score))\n",
      "        predicted_book = self._item_idx_to_book(predicted_idx)\n",
      "        return predicted_book\n",
      "    #    return self._item_to_book(predicted_item_id)        "
     ],
     "language": "python",
     "metadata": {},
     "outputs": [],
     "prompt_number": 287
    },
    {
     "cell_type": "markdown",
     "metadata": {},
     "source": [
      "## Loading the data\n",
      "The book and rating datasets are both loaded with <code>read_csv</code> functions. "
     ]
    },
    {
     "cell_type": "code",
     "collapsed": false,
     "input": [
      "all_rating_df = pd.read_csv(\"BX-Book-Ratings.csv\", encoding = \"ISO-8859-1\", sep=\";\")\n",
      "col_names = [\"ISBN\", \"Book-Title\", \"Book-Author\", \"Year-Of-Publication\", \"Publisher\", \"Image-URL-S\", \"Image-URL-M\", \"Image-URL-L\"]\n",
      "all_book_df = pd.read_csv(\"BX-Books.csv\",encoding = \"ISO-8859-1\", skiprows=1, names=col_names)"
     ],
     "language": "python",
     "metadata": {},
     "outputs": [],
     "prompt_number": 5
    },
    {
     "cell_type": "markdown",
     "metadata": {},
     "source": [
      "Then we see how many ratings are there per book? "
     ]
    },
    {
     "cell_type": "code",
     "collapsed": false,
     "input": [
      "fig, ax = subplots(2, 1)\n",
      "review_by_book = pd.Series(all_rating_df.ISBN.value_counts(), name=\"review_by_book\")\n",
      "review_by_book.hist(ax=ax[0], bottom=1, bins=arange(1, 1000, 10), edgecolor='white')\n",
      "ax[0].set(xlabel=\"Review per book\", yscale='log')\n",
      "\n",
      "review_by_user = pd.Series(all_rating_df[\"User-ID\"].value_counts(), name=\"review_by_user\")\n",
      "review_by_user.hist(ax=ax[1], bottom=1, bins=arange(1, 1000, 10), edgecolor='white')\n",
      "ax[1].set(xlabel=\"Review per user\", yscale='log')\n",
      "fig.tight_layout()"
     ],
     "language": "python",
     "metadata": {},
     "outputs": [
      {
       "metadata": {},
       "output_type": "display_data",
       "png": "[encoded data removed]",
       "text": [
        "<matplotlib.figure.Figure at 0x7f3bd7a42e48>"
       ]
      }
     ],
     "prompt_number": 6
    },
    {
     "cell_type": "markdown",
     "metadata": {},
     "source": [
      "To have an efficient and reliable recommendation algorithm, we limit our selection of books to those with more than 50 reviews, and our selection of users with more than 100 books. (50 and 100 are roughly where the knees of the above figures are.)"
     ]
    },
    {
     "cell_type": "code",
     "collapsed": false,
     "input": [
      "book_review_threshold = 150\n",
      "user_review_threshold = 100\n",
      "\n",
      "rating_df = all_rating_df.join(review_by_book, on='ISBN').join(review_by_user, on='User-ID')\n",
      "rating_df = rating_df[ (rating_df[\"review_by_book\"] > book_review_threshold) & (rating_df[\"review_by_user\"] > user_review_threshold) ]\n",
      "print(rating_df.shape)"
     ],
     "language": "python",
     "metadata": {},
     "outputs": [
      {
       "output_type": "stream",
       "stream": "stdout",
       "text": [
        "(42479, 5)\n"
       ]
      }
     ],
     "prompt_number": 7
    },
    {
     "cell_type": "markdown",
     "metadata": {},
     "source": [
      "We then combine the book dataframe with rating dataframe to create a big dataframe, so we can translate the ISBN number to book title. We call <code>pivot_table</code> method of the big dataframe to construct the rating matrix, where each row is a user and each column is an item. "
     ]
    },
    {
     "cell_type": "code",
     "collapsed": false,
     "input": [
      "big_df = pd.merge(all_book_df, rating_df, how='inner')\n",
      "rating_matrix = big_df.pivot_table(index=['User-ID'], columns=['Book-Title'], values='Book-Rating')\n",
      "rating_matrix.head()"
     ],
     "language": "python",
     "metadata": {},
     "outputs": [
      {
       "html": [
        "<div style=\"max-height:1000px;max-width:1500px;overflow:auto;\">\n",
        "<table border=\"1\" class=\"dataframe\">\n",
        "  <thead>\n",
        "    <tr style=\"text-align: right;\">\n",
        "      <th>Book-Title</th>\n",
        "      <th>1984</th>\n",
        "      <th>1st to Die: A Novel</th>\n",
        "      <th>2nd Chance</th>\n",
        "      <th>4 Blondes</th>\n",
        "      <th>A Bend in the Road</th>\n",
        "      <th>A Case of Need</th>\n",
        "      <th>A Child Called It: One Child's Courage to Survive</th>\n",
        "      <th>A Fine Balance</th>\n",
        "      <th>A Heartbreaking Work of Staggering Genius</th>\n",
        "      <th>A Is for Alibi (Kinsey Millhone Mysteries (Paperback))</th>\n",
        "      <th>A Lesson Before Dying (Vintage Contemporaries (Paperback))</th>\n",
        "      <th>A Map of the World</th>\n",
        "      <th>A Painted House</th>\n",
        "      <th>A Prayer for Owen Meany</th>\n",
        "      <th>A Thousand Acres (Ballantine Reader's Circle)</th>\n",
        "      <th>...</th>\n",
        "      <th>We Were the Mulvaneys</th>\n",
        "      <th>Welcome to the World, Baby Girl!</th>\n",
        "      <th>What Looks Like Crazy On An Ordinary Day</th>\n",
        "      <th>When the Wind Blows</th>\n",
        "      <th>Where the Heart Is (Oprah's Book Club (Paperback))</th>\n",
        "      <th>While I Was Gone</th>\n",
        "      <th>White Oleander : A Novel</th>\n",
        "      <th>White Oleander : A Novel (Oprah's Book Club)</th>\n",
        "      <th>White Teeth: A Novel</th>\n",
        "      <th>Who Moved My Cheese? An Amazing Way to Deal with Change in Your Work and in Your Life</th>\n",
        "      <th>Wicked: The Life and Times of the Wicked Witch of the West</th>\n",
        "      <th>Wild Animus</th>\n",
        "      <th>Without Remorse</th>\n",
        "      <th>Year of Wonders</th>\n",
        "      <th>Zen and the Art of Motorcycle Maintenance: An Inquiry into Values</th>\n",
        "    </tr>\n",
        "    <tr>\n",
        "      <th>User-ID</th>\n",
        "      <th></th>\n",
        "      <th></th>\n",
        "      <th></th>\n",
        "      <th></th>\n",
        "      <th></th>\n",
        "      <th></th>\n",
        "      <th></th>\n",
        "      <th></th>\n",
        "      <th></th>\n",
        "      <th></th>\n",
        "      <th></th>\n",
        "      <th></th>\n",
        "      <th></th>\n",
        "      <th></th>\n",
        "      <th></th>\n",
        "      <th></th>\n",
        "      <th></th>\n",
        "      <th></th>\n",
        "      <th></th>\n",
        "      <th></th>\n",
        "      <th></th>\n",
        "      <th></th>\n",
        "      <th></th>\n",
        "      <th></th>\n",
        "      <th></th>\n",
        "      <th></th>\n",
        "      <th></th>\n",
        "      <th></th>\n",
        "      <th></th>\n",
        "      <th></th>\n",
        "      <th></th>\n",
        "    </tr>\n",
        "  </thead>\n",
        "  <tbody>\n",
        "    <tr>\n",
        "      <th>254 </th>\n",
        "      <td>  9</td>\n",
        "      <td>NaN</td>\n",
        "      <td>NaN</td>\n",
        "      <td>NaN</td>\n",
        "      <td>NaN</td>\n",
        "      <td>NaN</td>\n",
        "      <td>NaN</td>\n",
        "      <td>NaN</td>\n",
        "      <td>NaN</td>\n",
        "      <td>NaN</td>\n",
        "      <td>NaN</td>\n",
        "      <td>NaN</td>\n",
        "      <td>NaN</td>\n",
        "      <td>NaN</td>\n",
        "      <td>NaN</td>\n",
        "      <td>...</td>\n",
        "      <td>NaN</td>\n",
        "      <td>NaN</td>\n",
        "      <td>NaN</td>\n",
        "      <td>NaN</td>\n",
        "      <td>NaN</td>\n",
        "      <td>NaN</td>\n",
        "      <td>  0</td>\n",
        "      <td>NaN</td>\n",
        "      <td>NaN</td>\n",
        "      <td>NaN</td>\n",
        "      <td>NaN</td>\n",
        "      <td>NaN</td>\n",
        "      <td>NaN</td>\n",
        "      <td>NaN</td>\n",
        "      <td>NaN</td>\n",
        "    </tr>\n",
        "    <tr>\n",
        "      <th>507 </th>\n",
        "      <td>NaN</td>\n",
        "      <td>NaN</td>\n",
        "      <td>NaN</td>\n",
        "      <td>NaN</td>\n",
        "      <td>NaN</td>\n",
        "      <td>NaN</td>\n",
        "      <td>NaN</td>\n",
        "      <td>NaN</td>\n",
        "      <td>NaN</td>\n",
        "      <td>NaN</td>\n",
        "      <td>NaN</td>\n",
        "      <td>NaN</td>\n",
        "      <td>NaN</td>\n",
        "      <td>NaN</td>\n",
        "      <td>NaN</td>\n",
        "      <td>...</td>\n",
        "      <td>NaN</td>\n",
        "      <td>NaN</td>\n",
        "      <td>NaN</td>\n",
        "      <td>NaN</td>\n",
        "      <td>NaN</td>\n",
        "      <td>NaN</td>\n",
        "      <td>NaN</td>\n",
        "      <td>NaN</td>\n",
        "      <td>NaN</td>\n",
        "      <td>NaN</td>\n",
        "      <td>NaN</td>\n",
        "      <td>NaN</td>\n",
        "      <td>NaN</td>\n",
        "      <td>NaN</td>\n",
        "      <td>NaN</td>\n",
        "    </tr>\n",
        "    <tr>\n",
        "      <th>882 </th>\n",
        "      <td>NaN</td>\n",
        "      <td>NaN</td>\n",
        "      <td>NaN</td>\n",
        "      <td>NaN</td>\n",
        "      <td>  0</td>\n",
        "      <td>NaN</td>\n",
        "      <td>NaN</td>\n",
        "      <td>NaN</td>\n",
        "      <td>NaN</td>\n",
        "      <td>NaN</td>\n",
        "      <td>NaN</td>\n",
        "      <td>NaN</td>\n",
        "      <td>NaN</td>\n",
        "      <td>NaN</td>\n",
        "      <td>NaN</td>\n",
        "      <td>...</td>\n",
        "      <td>NaN</td>\n",
        "      <td>NaN</td>\n",
        "      <td>NaN</td>\n",
        "      <td>NaN</td>\n",
        "      <td>NaN</td>\n",
        "      <td>NaN</td>\n",
        "      <td>NaN</td>\n",
        "      <td>NaN</td>\n",
        "      <td>NaN</td>\n",
        "      <td>NaN</td>\n",
        "      <td>NaN</td>\n",
        "      <td>NaN</td>\n",
        "      <td>NaN</td>\n",
        "      <td>NaN</td>\n",
        "      <td>NaN</td>\n",
        "    </tr>\n",
        "    <tr>\n",
        "      <th>1424</th>\n",
        "      <td>NaN</td>\n",
        "      <td>NaN</td>\n",
        "      <td>NaN</td>\n",
        "      <td>NaN</td>\n",
        "      <td>NaN</td>\n",
        "      <td>NaN</td>\n",
        "      <td>NaN</td>\n",
        "      <td>NaN</td>\n",
        "      <td>NaN</td>\n",
        "      <td>NaN</td>\n",
        "      <td>NaN</td>\n",
        "      <td>  7</td>\n",
        "      <td>NaN</td>\n",
        "      <td>NaN</td>\n",
        "      <td>NaN</td>\n",
        "      <td>...</td>\n",
        "      <td>NaN</td>\n",
        "      <td>NaN</td>\n",
        "      <td>NaN</td>\n",
        "      <td>NaN</td>\n",
        "      <td>NaN</td>\n",
        "      <td>NaN</td>\n",
        "      <td>NaN</td>\n",
        "      <td>NaN</td>\n",
        "      <td>NaN</td>\n",
        "      <td>NaN</td>\n",
        "      <td>NaN</td>\n",
        "      <td>NaN</td>\n",
        "      <td>NaN</td>\n",
        "      <td>  7</td>\n",
        "      <td>NaN</td>\n",
        "    </tr>\n",
        "    <tr>\n",
        "      <th>1435</th>\n",
        "      <td>NaN</td>\n",
        "      <td>NaN</td>\n",
        "      <td>NaN</td>\n",
        "      <td>NaN</td>\n",
        "      <td>NaN</td>\n",
        "      <td>  7</td>\n",
        "      <td>NaN</td>\n",
        "      <td>NaN</td>\n",
        "      <td>NaN</td>\n",
        "      <td>NaN</td>\n",
        "      <td>NaN</td>\n",
        "      <td>NaN</td>\n",
        "      <td>  0</td>\n",
        "      <td>NaN</td>\n",
        "      <td>NaN</td>\n",
        "      <td>...</td>\n",
        "      <td>NaN</td>\n",
        "      <td>NaN</td>\n",
        "      <td>NaN</td>\n",
        "      <td>NaN</td>\n",
        "      <td>  8</td>\n",
        "      <td>NaN</td>\n",
        "      <td>NaN</td>\n",
        "      <td>NaN</td>\n",
        "      <td>NaN</td>\n",
        "      <td>NaN</td>\n",
        "      <td>NaN</td>\n",
        "      <td>  5</td>\n",
        "      <td>NaN</td>\n",
        "      <td>NaN</td>\n",
        "      <td>NaN</td>\n",
        "    </tr>\n",
        "  </tbody>\n",
        "</table>\n",
        "<p>5 rows \u00d7 342 columns</p>\n",
        "</div>"
       ],
       "metadata": {},
       "output_type": "pyout",
       "prompt_number": 8,
       "text": [
        "Book-Title  1984  1st to Die: A Novel  2nd Chance  4 Blondes  A Bend in the Road  A Case of Need  A Child Called It: One Child's Courage to Survive  A Fine Balance  A Heartbreaking Work of Staggering Genius  A Is for Alibi (Kinsey Millhone Mysteries (Paperback))  A Lesson Before Dying (Vintage Contemporaries (Paperback))  A Map of the World  A Painted House  A Prayer for Owen Meany  A Thousand Acres (Ballantine Reader's Circle)                      ...                        \\\n",
        "User-ID                                                                                                                                                                                                                                                                                                                                                                                                                                                              ...                         \n",
        "254            9                  NaN         NaN        NaN                 NaN             NaN                                                NaN             NaN                                        NaN                                                NaN                                                     NaN                          NaN              NaN                      NaN                                            NaN                      ...                         \n",
        "507          NaN                  NaN         NaN        NaN                 NaN             NaN                                                NaN             NaN                                        NaN                                                NaN                                                     NaN                          NaN              NaN                      NaN                                            NaN                      ...                         \n",
        "882          NaN                  NaN         NaN        NaN                   0             NaN                                                NaN             NaN                                        NaN                                                NaN                                                     NaN                          NaN              NaN                      NaN                                            NaN                      ...                         \n",
        "1424         NaN                  NaN         NaN        NaN                 NaN             NaN                                                NaN             NaN                                        NaN                                                NaN                                                     NaN                            7              NaN                      NaN                                            NaN                      ...                         \n",
        "1435         NaN                  NaN         NaN        NaN                 NaN               7                                                NaN             NaN                                        NaN                                                NaN                                                     NaN                          NaN                0                      NaN                                            NaN                      ...                         \n",
        "\n",
        "Book-Title  We Were the Mulvaneys  Welcome to the World, Baby Girl!  What Looks Like Crazy On An Ordinary Day  When the Wind Blows  Where the Heart Is (Oprah's Book Club (Paperback))  While I Was Gone  White Oleander : A Novel  White Oleander : A Novel (Oprah's Book Club)  White Teeth: A Novel  Who Moved My Cheese? An Amazing Way to Deal with Change in Your Work and in Your Life  Wicked: The Life and Times of the Wicked Witch of the West  Wild Animus  Without Remorse  Year of Wonders  \\\n",
        "User-ID                                                                                                                                                                                                                                                                                                                                                                                                                                                                                                    \n",
        "254                           NaN                               NaN                                       NaN                  NaN                                                NaN                NaN                         0                                           NaN                   NaN                                                NaN                                                                                    NaN                   NaN              NaN              NaN   \n",
        "507                           NaN                               NaN                                       NaN                  NaN                                                NaN                NaN                       NaN                                           NaN                   NaN                                                NaN                                                                                    NaN                   NaN              NaN              NaN   \n",
        "882                           NaN                               NaN                                       NaN                  NaN                                                NaN                NaN                       NaN                                           NaN                   NaN                                                NaN                                                                                    NaN                   NaN              NaN              NaN   \n",
        "1424                          NaN                               NaN                                       NaN                  NaN                                                NaN                NaN                       NaN                                           NaN                   NaN                                                NaN                                                                                    NaN                   NaN              NaN                7   \n",
        "1435                          NaN                               NaN                                       NaN                  NaN                                                  8                NaN                       NaN                                           NaN                   NaN                                                NaN                                                                                    NaN                     5              NaN              NaN   \n",
        "\n",
        "Book-Title  Zen and the Art of Motorcycle Maintenance: An Inquiry into Values  \n",
        "User-ID                                                                        \n",
        "254                                                       NaN                  \n",
        "507                                                       NaN                  \n",
        "882                                                       NaN                  \n",
        "1424                                                      NaN                  \n",
        "1435                                                      NaN                  \n",
        "\n",
        "[5 rows x 342 columns]"
       ]
      }
     ],
     "prompt_number": 8
    },
    {
     "cell_type": "markdown",
     "metadata": {},
     "source": [
      "## Building the recommendation engine\n",
      "\n",
      "As you immediately observed, there are a lot of NaNs in the dataframe. Let's count the ratio of NaN to the total number of elements in the dataframe. "
     ]
    },
    {
     "cell_type": "code",
     "collapsed": false,
     "input": [
      "print(\"the ratio is %3.3f\" % (rating_matrix.isnull().sum().sum() / rating_matrix.values.size))"
     ],
     "language": "python",
     "metadata": {},
     "outputs": [
      {
       "output_type": "stream",
       "stream": "stdout",
       "text": [
        "the ratio is 0.929\n"
       ]
      }
     ],
     "prompt_number": 9
    },
    {
     "cell_type": "markdown",
     "metadata": {},
     "source": [
      "The sparsity of rating data strongly suggests that to calculate the similarity matrix it would be extremely inefficient to loop through each element in the matrix sequentially. Instead we can take the advantage of the sparse matrix provided by <code>scipy</code>. The general idea is, <code>scipy.sparse</code> indexing the non-zero elements is fast because it store the locations (row, col) of these non-zero elements. Below I will explain the low-level operations of the algorithm, and after that I will introduce the wrapper."
     ]
    },
    {
     "cell_type": "markdown",
     "metadata": {},
     "source": [
      "We define a function <code>extract_bias</code> to subtract the user bias and item bias."
     ]
    },
    {
     "cell_type": "code",
     "collapsed": false,
     "input": [
      "def extract_bias(r):\n",
      "    \"\"\"\n",
      "    extract the user and item bias\n",
      "    r: rating matrix, row is user and col is item\n",
      "    \n",
      "    return value:\n",
      "    mu: overall rating bias\n",
      "    bu: bias for each user\n",
      "    \n",
      "    \"\"\"\n",
      "    \n",
      "    mu = r.data.mean()   \n",
      "    \n",
      "    bu = zeros(r.shape[0])\n",
      "    for i in range(r.shape[0]):\n",
      "        bu[i] = r.data[r.indices==i].mean() - mu\n",
      "    \n",
      "    return mu, bu"
     ],
     "language": "python",
     "metadata": {},
     "outputs": [],
     "prompt_number": 14
    },
    {
     "cell_type": "markdown",
     "metadata": {},
     "source": [
      "Next we define the cosine similarity function (the comment in the code should be self-explanatory):"
     ]
    },
    {
     "cell_type": "code",
     "collapsed": false,
     "input": [
      "def cosine_sim(r, mu, bu, common_support_threshold=25):\n",
      "    \"\"\" \n",
      "    calculate the similarity matrix between the columns \n",
      "    r: rating matrix, row is user and column is item\n",
      "    mu: overall bias\n",
      "    bu: bias for user\n",
      "    common_support_threshold: threshold for the common support length, below which the similarity is \n",
      "        scaled by this number. \n",
      "    \"\"\"\n",
      "    # make sure r is float type\n",
      "    r = r.asfptype()    \n",
      "    # Remove the overall bias and user bias from the data\n",
      "    r.data -= take(bu+mu, r.indices)\n",
      "    \n",
      "    r_indices = split(r.indices, r.indptr)[1:-1]    \n",
      "    s = np.identity(r.shape[1])\n",
      "    \n",
      "    for i, j in zip(*triu_indices_from(s, k=1)):\n",
      "        ri_indices, rj_indices = r_indices[i], r_indices[j]     \n",
      "        # Extract the ith and jth column, and take the common support (i.e. overlap)\n",
      "        rid = r.data[np.where(np.in1d(ri_indices, rj_indices)) + r.indptr[i]]\n",
      "        rjd = r.data[np.where(np.in1d(rj_indices, ri_indices)) + r.indptr[j]]     \n",
      "        \n",
      "        n_common_support = rid.shape[0]\n",
      "        b = 0\n",
      "        \n",
      "        if rid.size!=0:\n",
      "            # calculate the cosine distance, and convert it to cosine similiarty\n",
      "            b = 1 - distance.cosine(rid, rjd) \n",
      "            if np.isnan(b):\n",
      "                b = 0\n",
      "                \n",
      "            # if the length of common support is smaller than threshold\n",
      "            # scale the similarity down, otherwise do nothing\n",
      "            if n_common_support < common_support_threshold:\n",
      "                b *= (float(n_common_support) / (common_support_threshold))\n",
      "            \n",
      "        # register the similarity in the matrix s\n",
      "        s[i, j], s[j, i] = b, b\n",
      "    \n",
      "    # convert s to csr_matrix and return\n",
      "    return sparse.csr_matrix(s)"
     ],
     "language": "python",
     "metadata": {},
     "outputs": [],
     "prompt_number": 98
    },
    {
     "cell_type": "markdown",
     "metadata": {},
     "source": [
      "Below is the code for the recommender engine. The RecommenderEngine class calculates the similiarity matrix from the rating matrix, and recommend the index of top n items that are similar to the indicated preferences. "
     ]
    },
    {
     "cell_type": "code",
     "collapsed": false,
     "input": [
      "class RecEngine:\n",
      "    def __init__(self, rm, metric=cosine_sim):\n",
      "        \"\"\"\n",
      "        class constructor\n",
      "        rm: rating matrix, row is user, column is item\n",
      "        metric: metric function, which takes rm as input and return the similarity matrix of the rating\n",
      "        \"\"\"\n",
      "        self._rm = rm\n",
      "        self._n_user, self._n_item = rm.shape  \n",
      "        \n",
      "        # Extract the bias for row (user) and column (item) respectively\n",
      "        self._mu, self._bu = extract_bias(rm)\n",
      "        self._sim = metric(self._rm, self._mu, self._bu)\n",
      "        \n",
      "    def predict(self, r):\n",
      "        \"\"\"\n",
      "        Predict usr's rating of un-rated items based on his rating r\n",
      "        r: length-2 tuple. r[0] are the list of item indices, and r[1] are the corresponding ratings \n",
      "        \n",
      "        Return:\n",
      "        p: predicted rating of each item\n",
      "        \"\"\"\n",
      "        # construct \n",
      "        rr = sparse.csc_matrix((r[1], array([r[0], [0]*len(r[0])])), shape=(self._n_item, 1))        \n",
      "        p = zeros(self._n_item)\n",
      "        \n",
      "        for i in range(self._n_item):\n",
      "            a = self._sim[i].dot(rr)\n",
      "            \n",
      "            # if a is empty, then set a = 0 \n",
      "            if len(a.data)==0:\n",
      "                a = 0.0\n",
      "            # otherwise divide a by the sum of weight \n",
      "            else:\n",
      "                w = self._sim[i, intersect1d(rr[:, 0].indices, self._sim[i].indices)].data\n",
      "                a = float(a.data[0]) / fabs(w).sum()\n",
      "                \n",
      "            p[i] = a\n",
      "        \n",
      "        return p\n",
      "        \n",
      "    def recommend(self, r, top_n=10):\n",
      "        \"\"\" \n",
      "        Recommend top n items based on user's rating\n",
      "        top_n: number of recommended items \n",
      "        \n",
      "        return:\n",
      "        (rec_index, rec_rating) which are indices of recommended items and their corresponding rating \n",
      "        \"\"\"\n",
      "        p = self.predict(r)\n",
      "        \n",
      "        rec_index = []\n",
      "        rec_rating = []        \n",
      "        for i in p.argsort()[-1:-top_n-len(r[0])-1:-1]:\n",
      "            if i not in r[0]:\n",
      "                rec_index.append(i)\n",
      "                rec_rating.append(p[i])\n",
      "            \n",
      "                if len(rec_index)==top_n:\n",
      "                    break\n",
      "                    \n",
      "        return rec_index, rec_rating"
     ],
     "language": "python",
     "metadata": {},
     "outputs": [],
     "prompt_number": 136
    },
    {
     "cell_type": "markdown",
     "metadata": {},
     "source": [
      "Finally we write the wrapper code, which translate the book title to item index and vice versa. "
     ]
    },
    {
     "cell_type": "code",
     "collapsed": false,
     "input": [
      "class BookRecommender:\n",
      "    def __init__(self, book_df, rating_df, metric):\n",
      "        self._book_df = book_df\n",
      "        self._rating_df = rating_df\n",
      "        \n",
      "        rm = sparse.csc_matrix((self._rating_df+1e-4).fillna(0).values)\n",
      "        self._engine = RecEngine(rm, metric)\n",
      "        \n",
      "    def _item_idx_to_book(self, item_idx):\n",
      "        \"\"\" Translate index to book title \"\"\"\n",
      "        return self._rating_df.columns[item_idx]\n",
      "    \n",
      "    def _book_to_item_idx(self, book_title): \n",
      "        \"\"\" Translate book title to index \"\"\"\n",
      "        return [ self._rating_df.columns.get_loc(bt) for bt in book_title ]\n",
      "        \n",
      "    def display_cover(self, book_title): \n",
      "        \"\"\" Display the book cover \"\"\"\n",
      "        return self._book_df.set_index(\"Book-Title\").ix[book_title, \"Image-URL-M\"].apply(lambda u: display(Image(url=u)))\n",
      "        #self._book_df[self._book_df[\"Book-Title\"].isin(book_title)][\"Image-URL-M\"].apply(lambda u: print(u))\n",
      "            \n",
      "    def recommend(self, r, top_n=10):\n",
      "        \"\"\" Recommend top_n books based on user's rating r \"\"\"\n",
      "        idx = self._book_to_item_idx(r[0])        \n",
      "        rec_index, rec_rating = self._engine.recommend((idx, r[1]), top_n)\n",
      "        \n",
      "        rec_book_title = self._item_idx_to_book(rec_index)\n",
      "        return rec_book_title, rec_rating"
     ],
     "language": "python",
     "metadata": {},
     "outputs": [],
     "prompt_number": 172
    },
    {
     "cell_type": "code",
     "collapsed": false,
     "input": [
      "br = BookRecommender(all_book_df, rating_matrix, metric=cosine_sim)"
     ],
     "language": "python",
     "metadata": {},
     "outputs": [],
     "prompt_number": 173
    },
    {
     "cell_type": "code",
     "collapsed": false,
     "input": [
      "rec_book_title, rec_rating = br.recommend(r=([\"The Great Gatsby\", \"1984\", \"Animal Farm\"], [7, 9, 6]), top_n=10)"
     ],
     "language": "python",
     "metadata": {},
     "outputs": [],
     "prompt_number": 140
    },
    {
     "cell_type": "code",
     "collapsed": false,
     "input": [
      "from IPython.display import Image, display\n",
      "br.display_cover(rec_book_title)"
     ],
     "language": "python",
     "metadata": {},
     "outputs": [
      {
       "html": [
        "<img src=\"http://images.amazon.com/images/P/0375706771.01.MZZZZZZZ.jpg\"/>"
       ],
       "metadata": {},
       "output_type": "display_data",
       "text": [
        "<IPython.core.display.Image at 0x7f3bde18d390>"
       ]
      },
      {
       "html": [
        "<img src=\"http://images.amazon.com/images/P/0380018179.01.MZZZZZZZ.jpg\"/>"
       ],
       "metadata": {},
       "output_type": "display_data",
       "text": [
        "<IPython.core.display.Image at 0x7f3bde18d390>"
       ]
      },
      {
       "html": [
        "<img src=\"http://images.amazon.com/images/P/0380563908.01.MZZZZZZZ.jpg\"/>"
       ],
       "metadata": {},
       "output_type": "display_data",
       "text": [
        "<IPython.core.display.Image at 0x7f3bde18d390>"
       ]
      },
      {
       "html": [
        "<img src=\"http://images.amazon.com/images/P/0060129565.01.MZZZZZZZ.jpg\"/>"
       ],
       "metadata": {},
       "output_type": "display_data",
       "text": [
        "<IPython.core.display.Image at 0x7f3bde18d390>"
       ]
      },
      {
       "html": [
        "<img src=\"http://images.amazon.com/images/P/0449212602.01.MZZZZZZZ.jpg\"/>"
       ],
       "metadata": {},
       "output_type": "display_data",
       "text": [
        "<IPython.core.display.Image at 0x7f3bde18d390>"
       ]
      },
      {
       "html": [
        "<img src=\"http://images.amazon.com/images/P/0449911535.01.MZZZZZZZ.jpg\"/>"
       ],
       "metadata": {},
       "output_type": "display_data",
       "text": [
        "<IPython.core.display.Image at 0x7f3bde18d390>"
       ]
      },
      {
       "html": [
        "<img src=\"http://images.amazon.com/images/P/0395404258.01.MZZZZZZZ.jpg\"/>"
       ],
       "metadata": {},
       "output_type": "display_data",
       "text": [
        "<IPython.core.display.Image at 0x7f3bde18d390>"
       ]
      },
      {
       "html": [
        "<img src=\"http://images.amazon.com/images/P/0745168086.01.MZZZZZZZ.jpg\"/>"
       ],
       "metadata": {},
       "output_type": "display_data",
       "text": [
        "<IPython.core.display.Image at 0x7f3bde18d390>"
       ]
      },
      {
       "html": [
        "<img src=\"http://images.amazon.com/images/P/0345438329.01.MZZZZZZZ.jpg\"/>"
       ],
       "metadata": {},
       "output_type": "display_data",
       "text": [
        "<IPython.core.display.Image at 0x7f3bde18d390>"
       ]
      },
      {
       "html": [
        "<img src=\"http://images.amazon.com/images/P/0345337662.01.MZZZZZZZ.jpg\"/>"
       ],
       "metadata": {},
       "output_type": "display_data",
       "text": [
        "<IPython.core.display.Image at 0x7f3bde18d390>"
       ]
      },
      {
       "html": [
        "<img src=\"http://images.amazon.com/images/P/0345310594.01.MZZZZZZZ.jpg\"/>"
       ],
       "metadata": {},
       "output_type": "display_data",
       "text": [
        "<IPython.core.display.Image at 0x7f3bde18d390>"
       ]
      },
      {
       "html": [
        "<img src=\"http://images.amazon.com/images/P/0452264464.01.MZZZZZZZ.jpg\"/>"
       ],
       "metadata": {},
       "output_type": "display_data",
       "text": [
        "<IPython.core.display.Image at 0x7f3bde18d390>"
       ]
      },
      {
       "html": [
        "<img src=\"http://images.amazon.com/images/P/0671003755.01.MZZZZZZZ.jpg\"/>"
       ],
       "metadata": {},
       "output_type": "display_data",
       "text": [
        "<IPython.core.display.Image at 0x7f3bde18d390>"
       ]
      },
      {
       "html": [
        "<img src=\"http://images.amazon.com/images/P/0399144463.01.MZZZZZZZ.jpg\"/>"
       ],
       "metadata": {},
       "output_type": "display_data",
       "text": [
        "<IPython.core.display.Image at 0x7f3bde18d390>"
       ]
      },
      {
       "html": [
        "<img src=\"http://images.amazon.com/images/P/0385497466.01.MZZZZZZZ.jpg\"/>"
       ],
       "metadata": {},
       "output_type": "display_data",
       "text": [
        "<IPython.core.display.Image at 0x7f3bde18d390>"
       ]
      },
      {
       "html": [
        "<img src=\"http://images.amazon.com/images/P/0440236673.01.MZZZZZZZ.jpg\"/>"
       ],
       "metadata": {},
       "output_type": "display_data",
       "text": [
        "<IPython.core.display.Image at 0x7f3bde18d390>"
       ]
      },
      {
       "html": [
        "<img src=\"http://images.amazon.com/images/P/0553526847.01.MZZZZZZZ.jpg\"/>"
       ],
       "metadata": {},
       "output_type": "display_data",
       "text": [
        "<IPython.core.display.Image at 0x7f3bde18d390>"
       ]
      },
      {
       "html": [
        "<img src=\"http://images.amazon.com/images/P/0375727965.01.MZZZZZZZ.jpg\"/>"
       ],
       "metadata": {},
       "output_type": "display_data",
       "text": [
        "<IPython.core.display.Image at 0x7f3bde18d390>"
       ]
      },
      {
       "html": [
        "<img src=\"http://images.amazon.com/images/P/0553502417.01.MZZZZZZZ.jpg\"/>"
       ],
       "metadata": {},
       "output_type": "display_data",
       "text": [
        "<IPython.core.display.Image at 0x7f3bde18d390>"
       ]
      },
      {
       "html": [
        "<img src=\"http://images.amazon.com/images/P/0060938455.01.MZZZZZZZ.jpg\"/>"
       ],
       "metadata": {},
       "output_type": "display_data",
       "text": [
        "<IPython.core.display.Image at 0x7f3bde18d390>"
       ]
      },
      {
       "metadata": {},
       "output_type": "pyout",
       "prompt_number": 174,
       "text": [
        "Book-Title\n",
        "Midwives: A Novel                                               None\n",
        "The Thorn Birds                                                 None\n",
        "The Thorn Birds                                                 None\n",
        "The Thorn Birds                                                 None\n",
        "The Handmaid's Tale                                             None\n",
        "The Handmaid's Tale                                             None\n",
        "The Handmaid's Tale                                             None\n",
        "The Handmaid's Tale                                             None\n",
        "Big Stone Gap: A Novel (Ballantine Reader's Circle)             None\n",
        "Interview with the Vampire                                      None\n",
        "Interview with the Vampire                                      None\n",
        "Beloved (Plume Contemporary Fiction)                            None\n",
        "She's Come Undone (Oprah's Book Club (Paperback))               None\n",
        "Who Moved My Cheese? An Amazing Way to Deal with Change in Your Work and in Your Life    None\n",
        "The Brethren                                                    None\n",
        "The Brethren                                                    None\n",
        "The Brethren                                                    None\n",
        "The Brethren                                                    None\n",
        "The Brethren                                                    None\n",
        "Fast Food Nation: The Dark Side of the All-American Meal        None\n",
        "Name: Image-URL-M, dtype: object"
       ]
      }
     ],
     "prompt_number": 174
    },
    {
     "cell_type": "markdown",
     "metadata": {},
     "source": [
      "## References\n",
      "\n",
      "1. Programming Collective Intelligence: Building Smart Web 2.0 Applications, Toby Segaran, 2007\n",
      "2. Item-based Collaborative Filtering Recommendation Algorithms. B. Sarwar, G. Karypis, J. Konstan,and J. Riedl. Proceedings of the 10th international conference on World Wide Web, http://dl.acm.org/citation.cfm?id=372071\n",
      "3. Book-Crossing Dataset, Cai-Nicolas Ziegler, DBIS Freiburg http://www2.informatik.uni-freiburg.de/~cziegler/BX/\n",
      "4. http://downloads.hindawi.com/journals/aai/2009/421425.pdf"
     ]
    }
   ],
   "metadata": {}
  }
 ]
}